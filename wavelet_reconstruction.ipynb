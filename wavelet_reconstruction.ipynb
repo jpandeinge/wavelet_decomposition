{
 "cells": [
  {
   "cell_type": "code",
   "execution_count": 4,
   "id": "33f44032-bf66-47de-a856-2c54a4c2d85c",
   "metadata": {},
   "outputs": [],
   "source": [
    "import re\n",
    "import time\n",
    "import glob\n",
    "\n",
    "import numpy as np\n",
    "import pandas as pd\n",
    "\n",
    "import seaborn as sns\n",
    "sns.set_style('darkgrid')\n",
    "color = sns.color_palette()\n",
    "import matplotlib.pyplot as plt\n",
    "\n",
    "import warnings\n",
    "warnings.filterwarnings(\"ignore\")\n",
    "\n",
    "pd.set_option('display.float_format', lambda x: '{:.3f}'.format(x)) #Limiting floats output to 3 decimal points\n",
    "\n",
    "%matplotlib inline"
   ]
  },
  {
   "cell_type": "markdown",
   "id": "32fc427a-85d8-4f4c-978e-9835a5f5fe98",
   "metadata": {},
   "source": [
    "### Concatenate all the files"
   ]
  },
  {
   "cell_type": "code",
   "execution_count": 9,
   "id": "30c7def6",
   "metadata": {},
   "outputs": [
    {
     "name": "stdout",
     "output_type": "stream",
     "text": [
      "283.78356671333313\n"
     ]
    }
   ],
   "source": [
    "# get path to all files\n",
    "recon_path = 'data/spectra/reconstructed/xgb/'\n",
    "sig_path = 'data/spectra/simulated_data/'\n",
    "recon_files = sorted(glob.glob(recon_path + 'recon_param_data_plot*.txt'), key=lambda x: int(re.search(r'\\d+', x).group()))\n",
    "sig_files = sorted(glob.glob(sig_path + 'model_parameters_data*.txt'), key=lambda x: int(re.search(r'\\d+', x).group()))\n",
    "\n",
    "params_path = 'data/params/'\n",
    "write_data = open(params_path + 'reconstructed_data_all_xgb.txt', 'w')\n",
    "# write_params  = open('model_parameters_all.txt', 'w')\n",
    "\n",
    "# start timer\n",
    "start_timer = time.time()\n",
    "# read in all files\n",
    "for file in recon_files:\n",
    "    with open(file, 'r') as f:\n",
    "        # skip the first 10 lines in each file\n",
    "        for i in range(10):\n",
    "            f.readline()\n",
    "            # read in the data from each file\n",
    "        data = f.readlines()\n",
    "        # get the length of the data in each file\n",
    "        length = len(data)\n",
    "        # write the data to the output file in the same order as the files\n",
    "        for i in range(length):\n",
    "            write_data.write(data[i])\n",
    "            \n",
    "# close the files\n",
    "write_data.close()\n",
    "# check how much time it took\n",
    "print(time.time() - start_timer)      "
   ]
  },
  {
   "cell_type": "code",
<<<<<<< Updated upstream
   "execution_count": 11,
=======
   "execution_count": 6,
>>>>>>> Stashed changes
   "id": "a5886348",
   "metadata": {},
   "outputs": [],
   "source": [
    "start_timer = time.time()\n",
    "# get the params data\n",
    "df_param = pd.DataFrame()\n",
<<<<<<< Updated upstream
    "for file in files:\n",
    "    # get the parameters used\n",
    "    df_param = df_param.append(pd.read_csv(file, skiprows=1, nrows=6, header=None, sep=' ', names=['A', 'B', 'C', 'D']))\n",
    "    # save the dataframe to a csv file\n",
    "    df_param.to_csv('model_parameters_data.csv', index=False)\n",
=======
    "for file in sig_files:\n",
    "    # get the parameters used\n",
    "    df_param = df_param.append(pd.read_csv(file, skiprows=1, nrows=6, header=None, sep=' ', names=['A', 'B', 'C', 'D']))\n",
    "    # save the dataframe to a csv file\n",
    "    df_param.to_csv(params_path + 'model_parameters_data.csv', index=False)\n",
>>>>>>> Stashed changes
    "    \n",
    "print(time.time() - start_timer)"
   ]
  },
  {
   "cell_type": "markdown",
   "id": "268cf9e9-4d06-4471-be10-6978f775226d",
   "metadata": {},
   "source": [
    "#### Load the files "
   ]
  },
  {
   "cell_type": "code",
   "execution_count": 3,
   "id": "e25f7867",
   "metadata": {},
   "outputs": [
    {
     "name": "stdout",
     "output_type": "stream",
     "text": [
      "955.7235321998596\n"
     ]
    }
   ],
   "source": [
    "start_time = time.time()\n",
    "file_path = 'data/5K_gen_files/'\n",
    "df_recon = pd.read_csv(file_path + 'reconstructed_data_all.txt', sep=' ', header=None) # all data dataframe\n",
    "df_data = pd.read_csv(file_path + 'model_parameters_data_all.txt', sep=' ', header=None) # all data dataframe\n",
    "print(time.time() - start_time)\n",
    "# df_data.head()"
   ]
  },
  {
   "cell_type": "code",
   "execution_count": null,
   "id": "781371cd-ec97-4b22-ba9e-e7e6d24a5bb0",
   "metadata": {},
   "outputs": [],
   "source": [
    "# get the last 15000 from the df_data datatrame, to get the \n",
    "# the data points that was used in the prediction of the parameterss\n",
    "df_sig = df_data.iloc[-53550000:]"
   ]
  },
  {
   "cell_type": "code",
   "execution_count": null,
   "id": "049a8be0",
   "metadata": {},
   "outputs": [],
   "source": [
    "df_recon.head()"
   ]
  },
  {
   "cell_type": "code",
   "execution_count": null,
   "id": "996ab75d-096f-4c4c-b53a-62b1b6e0c1a4",
   "metadata": {},
   "outputs": [],
   "source": [
    "df_sig.head()"
   ]
  },
  {
   "cell_type": "code",
   "execution_count": null,
   "id": "706fc484-7eb5-4fb4-bf66-23d025f52ed4",
   "metadata": {},
   "outputs": [],
   "source": [
    "print(\"Recon Shape: \", df_recon.shape,\"Original sig Shape: \", df_sig.shape)"
   ]
  },
  {
   "cell_type": "code",
   "execution_count": null,
   "id": "2ce7ad84",
   "metadata": {},
   "outputs": [],
   "source": [
    "columns = ['Frequency', 'Intensity']\n",
    "df_recon.columns = columns\n",
    "df_sig.columns =  columns "
   ]
  },
  {
   "cell_type": "code",
   "execution_count": null,
   "id": "78e020db",
   "metadata": {},
   "outputs": [],
   "source": [
    "df_sig.head()"
   ]
  },
  {
   "cell_type": "code",
   "execution_count": null,
   "id": "195d69b4-70d9-481c-9a2e-66057b6fc5fe",
   "metadata": {},
   "outputs": [],
   "source": [
    "df_recon.head()"
   ]
  },
  {
   "cell_type": "code",
   "execution_count": null,
   "id": "4426577c-ef25-4827-b344-e896e113783e",
   "metadata": {},
   "outputs": [],
   "source": [
    "# get the frequency and intensity of the original synthethic spectra\n",
    "freq_sig = np.array(np.array_split(df_sig['Frequency'], len(recon_files)))\n",
    "inten_sig = np.array(np.array_split(df_sig['Intensity'], len(recon_files)))\n",
    "\n",
    "\n",
    "# get the frequency and intensity of the predicted spectra\n",
    "freq_recon = np.array(np.array_split(df_recon['Frequency'], len(recon_files)))\n",
    "inten_recon = np.array(np.array_split(df_recon['Intensity'], len(recon_files)))"
   ]
  },
  {
   "cell_type": "code",
   "execution_count": null,
   "id": "2d399283-70b5-4e3e-8ceb-2f0ba6abdae7",
   "metadata": {},
   "outputs": [],
   "source": [
    "# plot the signal in one plot\n",
    "plt.figure(figsize=(10, 6))\n",
    "plt.plot(freq_sig[0],  inten_sig[0], color='r', label='Original - 3501')\n",
    "plt.plot(freq_recon[0], inten_recon[0], color='b', label=\"Reconstrcuctedv - 3500\")\n",
    "plt.xlabel(\"Frequency (GHz)\")\n",
    "plt.ylabel(\"Intensity (K)\")\n",
    "plt.legend()\n",
    "# plt.savefig('Recon_params/recon_3501.png')\n",
    "plt.show()"
   ]
  },
  {
   "cell_type": "code",
   "execution_count": null,
   "id": "695283eb-9f72-44a9-8d9f-b1313d8fc5b9",
   "metadata": {},
   "outputs": [],
   "source": [
    "plt.figure(figsize=(10, 6))\n",
    "plt.plot(freq_sig[1],  inten_sig[1], color='r', label='Original 3502')\n",
    "plt.plot(freq_recon[1], inten_recon[1], color='b', label=\"Reconstrcucted 3502\")\n",
    "plt.xlabel(\"Frequency (GHz)\")\n",
    "plt.ylabel(\"Intensity (K)\")\n",
    "plt.legend()\n",
    "# plt.savefig('Recon_params/recon_3502.png')\n",
    "plt.show()"
   ]
  },
  {
   "cell_type": "code",
   "execution_count": null,
   "id": "330a947f-40ae-47c4-870c-edcde6f1c324",
   "metadata": {},
   "outputs": [],
   "source": [
    "plt.figure(figsize=(10, 6))\n",
    "plt.plot(freq_sig[2],  inten_sig[2], color='r', label='Original - 3503')\n",
    "plt.plot(freq_recon[2], inten_recon[2], color='b', label=\"Reconstrcucted - 3503\")\n",
    "plt.xlabel(\"Frequency (GHz)\")\n",
    "plt.ylabel(\"Intensity (K)\")\n",
    "plt.legend()\n",
    "# plt.savefig('Recon_params/recon_3503.png')\n",
    "plt.show()"
   ]
  },
  {
   "cell_type": "code",
   "execution_count": null,
   "id": "5613beae-789d-4811-8008-4ed93b6b7aac",
   "metadata": {},
   "outputs": [],
   "source": [
    "plt.figure(figsize=(10, 6))\n",
    "plt.plot(freq_sig[1000],  inten_sig[1000], color='r', label='Original - 4500')\n",
    "plt.plot(freq_recon[1000], inten_recon[1000], color='b', label=\"Reconstrcucted - 4500\")\n",
    "plt.xlabel(\"Frequency (GHz)\")\n",
    "plt.ylabel(\"Intensity (K)\")\n",
    "plt.legend()\n",
    "# plt.savefig('Recon_params/recon_4500.png')\n",
    "plt.show()"
   ]
  },
  {
   "cell_type": "code",
   "execution_count": null,
   "id": "66e9a6c0-ee11-43c1-aa58-ee1cc01e4729",
   "metadata": {},
   "outputs": [],
   "source": [
    "plt.figure(figsize=(10, 6))\n",
    "plt.plot(freq_sig[1237],  inten_sig[1237], color='r', label='Original - 4737')\n",
    "plt.plot(freq_recon[1237], inten_recon[1237], color='b', label=\"Reconstrcucted - 4737\")\n",
    "plt.xlabel(\"Frequency (GHz)\")\n",
    "plt.ylabel(\"Intensity (K)\")\n",
    "plt.legend()\n",
    "# plt.savefig('Recon_params/recon_4737.png')\n",
    "plt.show()"
   ]
  },
  {
   "cell_type": "code",
   "execution_count": null,
   "id": "e9d43d49-a39f-4365-8df5-29fbfab22a71",
   "metadata": {},
   "outputs": [],
   "source": [
    "plt.figure(figsize=(10, 6))\n",
    "plt.plot(freq_sig[856],  inten_sig[856], color='r', label='Original - 4356')\n",
    "plt.plot(freq_recon[856], inten_recon[856], color='b', label=\"Reconstrcucted - 4356\")\n",
    "plt.xlabel(\"Frequency (GHz)\")\n",
    "plt.ylabel(\"Intensity (K)\")\n",
    "plt.legend()\n",
    "# plt.savefig('Recon_params/recon_4356.png')\n",
    "plt.show()"
   ]
  },
  {
   "cell_type": "code",
   "execution_count": null,
   "id": "a6c88225-c47d-4fb4-8605-815feca85184",
   "metadata": {},
   "outputs": [],
   "source": [
    "plt.figure(figsize=(10, 6))\n",
    "plt.plot(freq_sig[1499],  inten_sig[1499], color='r', label='Original - 5000')\n",
    "plt.plot(freq_recon[1499], inten_recon[1499], color='b', label=\"Reconstrcucted - 5000\")\n",
    "plt.xlabel(\"Frequency (GHz)\")\n",
    "plt.ylabel(\"Intensity (K)\")\n",
    "plt.legend()\n",
    "# plt.savefig('Recon_params/recon_5000.png')\n",
    "plt.show()"
   ]
  },
  {
   "cell_type": "code",
   "execution_count": null,
   "id": "741f6dc4-3981-4028-88a7-6c2482c55a82",
   "metadata": {},
   "outputs": [],
   "source": [
    "plt.figure(figsize=(10, 6))\n",
    "plt.plot(freq_sig[300],  inten_sig[300], color='r', label='Original - 5000')\n",
    "plt.plot(freq_recon[300], inten_recon[300], color='b', label=\"Reconstrcucted - 5000\")\n",
    "plt.xlabel(\"Frequency (GHz)\")\n",
    "plt.ylabel(\"Intensity (K)\")\n",
    "plt.legend()\n",
    "# plt.savefig('Recon_params/recon_5000.png')\n",
    "plt.show()"
   ]
  },
  {
   "cell_type": "code",
   "execution_count": null,
   "id": "ddd184c3-46e7-40d8-89c1-c62c83a9842c",
   "metadata": {},
   "outputs": [],
   "source": [
    "# plot all the spectra in a subplot where each subplot is based at position (i,j) in the grid of plots where i is the row=10 and j is the column=5\n",
    "\n"
   ]
  },
  {
   "cell_type": "code",
   "execution_count": null,
   "id": "0199b849",
   "metadata": {},
   "outputs": [],
   "source": []
  }
 ],
 "metadata": {
  "kernelspec": {
   "display_name": "Python 3 (ipykernel)",
   "language": "python",
   "name": "python3"
  },
  "language_info": {
   "codemirror_mode": {
    "name": "ipython",
    "version": 3
   },
   "file_extension": ".py",
   "mimetype": "text/x-python",
   "name": "python",
   "nbconvert_exporter": "python",
   "pygments_lexer": "ipython3",
   "version": "3.8.2"
  },
  "vscode": {
   "interpreter": {
    "hash": "701d4f28dcd0866722f5108a3a4cbcd08882d26398b6d44117e791d7b8102912"
   }
  }
 },
 "nbformat": 4,
 "nbformat_minor": 5
}
