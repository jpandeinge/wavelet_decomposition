{
 "cells": [
  {
   "cell_type": "code",
   "execution_count": 1,
   "id": "33f44032-bf66-47de-a856-2c54a4c2d85c",
   "metadata": {},
   "outputs": [],
   "source": [
    "import re\n",
    "import time\n",
    "import glob\n",
    "\n",
    "import numpy as np\n",
    "import pandas as pd\n",
    "\n",
    "import seaborn as sns\n",
    "import matplotlib.pyplot as plt\n",
    "\n",
    "import warnings\n",
    "warnings.filterwarnings(\"ignore\")\n",
    "\n",
    "%matplotlib inline"
   ]
  },
  {
   "cell_type": "markdown",
   "id": "32fc427a-85d8-4f4c-978e-9835a5f5fe98",
   "metadata": {},
   "source": [
    "### Concatenate all the files"
   ]
  },
  {
   "cell_type": "code",
   "execution_count": 2,
   "id": "30c7def6",
   "metadata": {},
   "outputs": [],
   "source": [
    "# get path to all files\n",
    "recon_path = 'data/spectra/reconstructed/rf/'\n",
    "sig_path = 'data/spectra/simulated_data/'\n",
    "recon_files = sorted(glob.glob(recon_path + 'recon_param_data*.txt'), key=lambda x: int(re.search(r'\\d+', x).group()))\n",
    "sig_files = sorted(glob.glob(sig_path + 'model_parameters_data*.txt'), key=lambda x: int(re.search(r'\\d+', x).group()))\n",
    "\n",
    "params_path = 'data/params/'\n",
    "write_data = open(params_path + 'reconstructed_data_rf_5K.txt', 'w')\n",
    "\n",
    "# read in all files\n",
    "for file in recon_files:\n",
    "    with open(file, 'r') as f:\n",
    "        # skip the first 10 lines in each file\n",
    "        for i in range(10):\n",
    "            f.readline()\n",
    "            # read in the data from each file\n",
    "        data = f.readlines()\n",
    "        # get the length of the data in each file\n",
    "        length = len(data)\n",
    "        # write the data to the output file in the same order as the files\n",
    "        for i in range(length):\n",
    "            write_data.write(data[i])\n",
    "            \n",
    "# close the files\n",
    "write_data.close()"
   ]
  },
  {
   "cell_type": "code",
   "execution_count": 3,
   "id": "a5886348",
   "metadata": {},
   "outputs": [
    {
     "data": {
      "text/html": [
       "<div>\n",
       "<style scoped>\n",
       "    .dataframe tbody tr th:only-of-type {\n",
       "        vertical-align: middle;\n",
       "    }\n",
       "\n",
       "    .dataframe tbody tr th {\n",
       "        vertical-align: top;\n",
       "    }\n",
       "\n",
       "    .dataframe thead th {\n",
       "        text-align: right;\n",
       "    }\n",
       "</style>\n",
       "<table border=\"1\" class=\"dataframe\">\n",
       "  <thead>\n",
       "    <tr style=\"text-align: right;\">\n",
       "      <th></th>\n",
       "      <th>A</th>\n",
       "      <th>B</th>\n",
       "      <th>C</th>\n",
       "      <th>D</th>\n",
       "    </tr>\n",
       "  </thead>\n",
       "  <tbody>\n",
       "    <tr>\n",
       "      <th>0</th>\n",
       "      <td>tcmb</td>\n",
       "      <td>=</td>\n",
       "      <td>2.730000e+00</td>\n",
       "      <td>K</td>\n",
       "    </tr>\n",
       "    <tr>\n",
       "      <th>1</th>\n",
       "      <td>ntot</td>\n",
       "      <td>=</td>\n",
       "      <td>3.444610e+16</td>\n",
       "      <td>cm-2</td>\n",
       "    </tr>\n",
       "    <tr>\n",
       "      <th>2</th>\n",
       "      <td>tex</td>\n",
       "      <td>=</td>\n",
       "      <td>2.460550e+02</td>\n",
       "      <td>K</td>\n",
       "    </tr>\n",
       "    <tr>\n",
       "      <th>3</th>\n",
       "      <td>fwhm</td>\n",
       "      <td>=</td>\n",
       "      <td>3.258734e+00</td>\n",
       "      <td>km/s</td>\n",
       "    </tr>\n",
       "    <tr>\n",
       "      <th>4</th>\n",
       "      <td>vlsr</td>\n",
       "      <td>=</td>\n",
       "      <td>4.348123e+01</td>\n",
       "      <td>km/s</td>\n",
       "    </tr>\n",
       "  </tbody>\n",
       "</table>\n",
       "</div>"
      ],
      "text/plain": [
       "      A  B             C     D\n",
       "0  tcmb  =  2.730000e+00     K\n",
       "1  ntot  =  3.444610e+16  cm-2\n",
       "2   tex  =  2.460550e+02     K\n",
       "3  fwhm  =  3.258734e+00  km/s\n",
       "4  vlsr  =  4.348123e+01  km/s"
      ]
     },
     "execution_count": 3,
     "metadata": {},
     "output_type": "execute_result"
    }
   ],
   "source": [
    "# get the params data\n",
    "df_param = pd.DataFrame()\n",
    "for file in sig_files:\n",
    "    # get the parameters used\n",
    "    df_param = df_param.append(pd.read_csv(file, skiprows=1, nrows=6, header=None, sep=' ', names=['A', 'B', 'C', 'D']))\n",
    "# save the dataframe to a csv file\n",
    "df_param.to_csv(params_path + 'model_parameters_data_5K.csv', index=False)\n",
    "df_param.head()\n",
    "    "
   ]
  },
  {
   "cell_type": "markdown",
   "id": "268cf9e9-4d06-4471-be10-6978f775226d",
   "metadata": {},
   "source": [
    "#### Load the files "
   ]
  },
  {
   "cell_type": "code",
   "execution_count": 4,
   "id": "e25f7867",
   "metadata": {},
   "outputs": [],
   "source": [
    "df_recon = pd.read_csv(params_path + 'reconstructed_data_rf_5K.txt', sep=' ', header=None) # all reconstructed data dataframe\n",
    "df_data = pd.read_csv(params_path + 'model_parameters_data_all_5K.txt', sep=' ', header=None) # all data dataframe\n",
    "# df_data.head()"
   ]
  },
  {
   "cell_type": "code",
   "execution_count": 5,
   "id": "c6b65880",
   "metadata": {},
   "outputs": [
    {
     "data": {
      "text/plain": [
       "((53550000, 2), (282500000, 2))"
      ]
     },
     "execution_count": 5,
     "metadata": {},
     "output_type": "execute_result"
    }
   ],
   "source": [
    "df_recon.shape, df_data.shape"
   ]
  },
  {
   "cell_type": "code",
   "execution_count": 6,
   "id": "781371cd-ec97-4b22-ba9e-e7e6d24a5bb0",
   "metadata": {},
   "outputs": [],
   "source": [
    "# get the last 15000 from the df_data datatrame, to get the \n",
    "# the data points that was used in the prediction of the parameterss\n",
    "df_sig = df_data.iloc[-84750000:]"
   ]
  },
  {
   "cell_type": "code",
   "execution_count": 7,
   "id": "049a8be0",
   "metadata": {},
   "outputs": [
    {
     "data": {
      "text/plain": [
       "((53550000, 2), (84750000, 2))"
      ]
     },
     "execution_count": 7,
     "metadata": {},
     "output_type": "execute_result"
    }
   ],
   "source": [
    "df_recon.shape,  df_sig.shape"
   ]
  },
  {
   "cell_type": "code",
   "execution_count": null,
   "id": "996ab75d-096f-4c4c-b53a-62b1b6e0c1a4",
   "metadata": {},
   "outputs": [],
   "source": [
    "df_sig.head()"
   ]
  },
  {
   "cell_type": "code",
   "execution_count": null,
   "id": "706fc484-7eb5-4fb4-bf66-23d025f52ed4",
   "metadata": {},
   "outputs": [],
   "source": [
    "print(\"Recon Shape: \", df_recon.shape,\"Original sig Shape: \", df_sig.shape)"
   ]
  },
  {
   "cell_type": "code",
   "execution_count": null,
   "id": "2ce7ad84",
   "metadata": {},
   "outputs": [],
   "source": [
    "columns = ['Frequency', 'Intensity']\n",
    "df_recon.columns = columns\n",
    "df_sig.columns =  columns "
   ]
  },
  {
   "cell_type": "code",
   "execution_count": null,
   "id": "78e020db",
   "metadata": {},
   "outputs": [],
   "source": [
    "df_sig.head()"
   ]
  },
  {
   "cell_type": "code",
   "execution_count": null,
   "id": "195d69b4-70d9-481c-9a2e-66057b6fc5fe",
   "metadata": {},
   "outputs": [],
   "source": [
    "df_recon.head()"
   ]
  },
  {
   "cell_type": "code",
   "execution_count": null,
   "id": "4426577c-ef25-4827-b344-e896e113783e",
   "metadata": {},
   "outputs": [],
   "source": [
    "# get the frequency and intensity of the original synthethic spectra\n",
    "freq_sig = np.array(np.array_split(df_sig['Frequency'], len(recon_files)))\n",
    "inten_sig = np.array(np.array_split(df_sig['Intensity'], len(recon_files)))\n",
    "\n",
    "\n",
    "# get the frequency and intensity of the predicted spectra\n",
    "freq_recon = np.array(np.array_split(df_recon['Frequency'], len(recon_files)))\n",
    "inten_recon = np.array(np.array_split(df_recon['Intensity'], len(recon_files)))"
   ]
  },
  {
   "cell_type": "code",
   "execution_count": null,
   "id": "2d399283-70b5-4e3e-8ceb-2f0ba6abdae7",
   "metadata": {},
   "outputs": [],
   "source": [
    "# plot the signal in one plot\n",
    "plt.figure(figsize=(10, 6))\n",
    "sns.set_style(\"whitegrid\")\n",
    "plt.plot(freq_sig[0],  inten_sig[0], color='r', label='Original - 3501')\n",
    "plt.plot(freq_recon[0], inten_recon[0], color='b', label=\"Reconstrcuctedv - 3501\")\n",
    "plt.xlabel(\"Frequency (GHz)\")\n",
    "plt.ylabel(\"Intensity (K)\")\n",
    "plt.legend()\n",
    "# plt.savefig('Recon_params/recon_3501.png')\n",
    "plt.show()"
   ]
  },
  {
   "cell_type": "code",
   "execution_count": null,
   "id": "695283eb-9f72-44a9-8d9f-b1313d8fc5b9",
   "metadata": {},
   "outputs": [],
   "source": [
    "plt.figure(figsize=(10, 6))\n",
    "sns.set_style(\"whitegrid\")\n",
    "plt.plot(freq_sig[1],  inten_sig[1], color='r', label='Original 3502')\n",
    "plt.plot(freq_recon[1], inten_recon[1], color='b', label=\"Reconstrcucted 3502\")\n",
    "plt.xlabel(\"Frequency (GHz)\")\n",
    "plt.ylabel(\"Intensity (K)\")\n",
    "plt.legend()\n",
    "# plt.savefig('Recon_params/recon_3502.png')\n",
    "plt.show()"
   ]
  },
  {
   "cell_type": "code",
   "execution_count": null,
   "id": "330a947f-40ae-47c4-870c-edcde6f1c324",
   "metadata": {},
   "outputs": [],
   "source": [
    "plt.figure(figsize=(10, 6))\n",
    "sns.set_style(\"whitegrid\")\n",
    "plt.plot(freq_sig[2],  inten_sig[2], color='r', label='Original - 3503')\n",
    "plt.plot(freq_recon[2], inten_recon[2], color='b', label=\"Reconstrcucted - 3503\")\n",
    "plt.xlabel(\"Frequency (GHz)\")\n",
    "plt.ylabel(\"Intensity (K)\")\n",
    "plt.legend()\n",
    "# plt.savefig('Recon_params/recon_3503.png')\n",
    "plt.show()"
   ]
  },
  {
   "cell_type": "code",
   "execution_count": null,
   "id": "5613beae-789d-4811-8008-4ed93b6b7aac",
   "metadata": {},
   "outputs": [],
   "source": [
    "plt.figure(figsize=(10, 6))\n",
    "sns.set_style(\"whitegrid\")\n",
    "plt.plot(freq_sig[1000],  inten_sig[1000], color='r', label='Original - 4500')\n",
    "plt.plot(freq_recon[1000], inten_recon[1000], color='b', label=\"Reconstrcucted - 4500\")\n",
    "plt.xlabel(\"Frequency (GHz)\")\n",
    "plt.ylabel(\"Intensity (K)\")\n",
    "plt.legend()\n",
    "# plt.savefig('Recon_params/recon_4500.png')\n",
    "plt.show()"
   ]
  },
  {
   "cell_type": "code",
   "execution_count": null,
   "id": "66e9a6c0-ee11-43c1-aa58-ee1cc01e4729",
   "metadata": {},
   "outputs": [],
   "source": [
    "plt.figure(figsize=(10, 6))\n",
    "sns.set_style(\"whitegrid\")\n",
    "plt.plot(freq_sig[1237],  inten_sig[1237], color='r', label='Original - 4737')\n",
    "plt.plot(freq_recon[1237], inten_recon[1237], color='b', label=\"Reconstrcucted - 4737\")\n",
    "plt.xlabel(\"Frequency (GHz)\")\n",
    "plt.ylabel(\"Intensity (K)\")\n",
    "plt.legend()\n",
    "# plt.savefig('Recon_params/recon_4737.png')\n",
    "plt.show()"
   ]
  },
  {
   "cell_type": "code",
   "execution_count": null,
   "id": "e9d43d49-a39f-4365-8df5-29fbfab22a71",
   "metadata": {},
   "outputs": [],
   "source": [
    "plt.figure(figsize=(10, 6))\n",
    "sns.set_style(\"whitegrid\")\n",
    "plt.plot(freq_sig[856],  inten_sig[856], color='r', label='Original - 4356')\n",
    "plt.plot(freq_recon[856], inten_recon[856], color='b', label=\"Reconstrcucted - 4356\")\n",
    "plt.xlabel(\"Frequency (GHz)\")\n",
    "plt.ylabel(\"Intensity (K)\")\n",
    "plt.legend()\n",
    "# plt.savefig('Recon_params/recon_4356.png')\n",
    "plt.show()"
   ]
  },
  {
   "cell_type": "code",
   "execution_count": null,
   "id": "a6c88225-c47d-4fb4-8605-815feca85184",
   "metadata": {},
   "outputs": [],
   "source": [
    "plt.figure(figsize=(10, 6))\n",
    "sns.set_style(\"whitegrid\")\n",
    "plt.plot(freq_sig[1499],  inten_sig[1499], color='r', label='Original - 5000')\n",
    "plt.plot(freq_recon[1499], inten_recon[1499], color='b', label=\"Reconstrcucted - 5000\")\n",
    "plt.xlabel(\"Frequency (GHz)\")\n",
    "plt.ylabel(\"Intensity (K)\")\n",
    "plt.legend()\n",
    "# plt.savefig('Recon_params/recon_5000.png')\n",
    "plt.show()"
   ]
  },
  {
   "cell_type": "code",
   "execution_count": null,
   "id": "741f6dc4-3981-4028-88a7-6c2482c55a82",
   "metadata": {},
   "outputs": [],
   "source": [
    "plt.figure(figsize=(10, 6))\n",
    "sns.set_style(\"whitegrid\")\n",
    "plt.plot(freq_sig[300],  inten_sig[300], color='r', label='Original - 5000')\n",
    "plt.plot(freq_recon[300], inten_recon[300], color='b', label=\"Reconstrcucted - 5000\")\n",
    "plt.xlabel(\"Frequency (GHz)\")\n",
    "plt.ylabel(\"Intensity (K)\")\n",
    "plt.legend()\n",
    "# plt.savefig('Recon_params/recon_5000.png')\n",
    "plt.show()"
   ]
  },
  {
   "cell_type": "code",
   "execution_count": null,
   "id": "ddd184c3-46e7-40d8-89c1-c62c83a9842c",
   "metadata": {},
   "outputs": [],
   "source": []
  },
  {
   "cell_type": "code",
   "execution_count": null,
   "id": "0ecfef39-76d3-48bb-a6c0-e3e97c9d754d",
   "metadata": {},
   "outputs": [],
   "source": []
  },
  {
   "cell_type": "code",
   "execution_count": null,
   "id": "02636d60-19e9-45d3-b5b0-998d5c9f2b27",
   "metadata": {},
   "outputs": [],
   "source": []
  }
 ],
 "metadata": {
  "kernelspec": {
   "display_name": "Python 3 (ipykernel)",
   "language": "python",
   "name": "python3"
  },
  "language_info": {
   "codemirror_mode": {
    "name": "ipython",
    "version": 3
   },
   "file_extension": ".py",
   "mimetype": "text/x-python",
   "name": "python",
   "nbconvert_exporter": "python",
   "pygments_lexer": "ipython3",
   "version": "3.8.2"
  },
  "vscode": {
   "interpreter": {
    "hash": "701d4f28dcd0866722f5108a3a4cbcd08882d26398b6d44117e791d7b8102912"
   }
  }
 },
 "nbformat": 4,
 "nbformat_minor": 5
}
