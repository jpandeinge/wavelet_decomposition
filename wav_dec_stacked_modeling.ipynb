{
 "cells": [
  {
   "cell_type": "code",
   "execution_count": 1,
   "id": "33f44032-bf66-47de-a856-2c54a4c2d85c",
   "metadata": {},
   "outputs": [],
   "source": [
    "import re\n",
    "import time\n",
    "import glob\n",
    "import pywt\n",
    "\n",
    "import numpy as np\n",
    "import pandas as pd\n",
    "\n",
    "import seaborn as sns\n",
    "sns.set_style('darkgrid')\n",
    "color = sns.color_palette()\n",
    "\n",
    "import matplotlib.pyplot as plt\n",
    "from mpl_toolkits.mplot3d import Axes3D\n",
    "\n",
    "\n",
    "import warnings\n",
    "warnings.filterwarnings(\"ignore\")\n",
    "\n",
    "%matplotlib inline"
   ]
  },
  {
   "cell_type": "markdown",
   "id": "32fc427a-85d8-4f4c-978e-9835a5f5fe98",
   "metadata": {},
   "source": [
    "### Concatenate all the files"
   ]
  },
  {
   "cell_type": "code",
   "execution_count": 2,
   "id": "30c7def6",
   "metadata": {},
   "outputs": [],
   "source": [
    "# get path to all files\n",
    "path = 'data/spectra/simulated_data/'\n",
    "files = sorted(glob.glob(path + 'model_parameters_data*.txt'), key=lambda x: int(re.search(r'\\d+', x).group()))\n",
    "# write_data = open('model_parameters_data_all.txt', 'w')\n",
    "# write_params  = open('model_parameters_all.txt', 'w')\n",
    "\n",
    "# # start timer\n",
    "# start_timer = time.time()\n",
    "# # read in all files\n",
    "# for file in files:\n",
    "#     with open(file, 'r') as f:\n",
    "#         # skip the first 10 lines in each file\n",
    "#         for i in range(10):\n",
    "#             f.readline()\n",
    "#             # read in the data from each file\n",
    "#         data = f.readlines()\n",
    "#         # get the length of the data in each file\n",
    "#         length = len(data)\n",
    "#         # write the data to the output file in the same order as the files\n",
    "#         for i in range(length):\n",
    "#             write_data.write(data[i])\n",
    "            \n",
    "# # close the files\n",
    "# write_data.close()\n",
    "# # # check how much time it took\n",
    "# print(time.time() - start_timer)      "
   ]
  },
  {
   "cell_type": "code",
   "execution_count": 4,
   "id": "a5886348",
   "metadata": {},
   "outputs": [],
   "source": [
    "# start_timer = time.time()\n",
    "# # get the params data\n",
    "# df_param = pd.DataFrame()\n",
    "# for file in files:\n",
    "#     # get the parameters used\n",
    "#     df_param = df_param.append(pd.read_csv(file, skiprows=1, nrows=6, header=None, sep=' ', names=['A', 'B', 'C', 'D']))\n",
    "#     # save the dataframe to a csv file\n",
    "#     df_param.to_csv('model_parameters_data.csv', index=False)\n",
    "    \n",
    "# print(time.time() - start_timer)"
   ]
  },
  {
   "cell_type": "markdown",
   "id": "268cf9e9-4d06-4471-be10-6978f775226d",
   "metadata": {},
   "source": [
    "#### Load the files "
   ]
  },
  {
   "cell_type": "code",
   "execution_count": 5,
   "id": "e25f7867",
   "metadata": {},
   "outputs": [
    {
     "name": "stdout",
     "output_type": "stream",
     "text": [
      "724.204806804657\n"
     ]
    },
    {
     "data": {
      "text/html": [
       "<div>\n",
       "<style scoped>\n",
       "    .dataframe tbody tr th:only-of-type {\n",
       "        vertical-align: middle;\n",
       "    }\n",
       "\n",
       "    .dataframe tbody tr th {\n",
       "        vertical-align: top;\n",
       "    }\n",
       "\n",
       "    .dataframe thead th {\n",
       "        text-align: right;\n",
       "    }\n",
       "</style>\n",
       "<table border=\"1\" class=\"dataframe\">\n",
       "  <thead>\n",
       "    <tr style=\"text-align: right;\">\n",
       "      <th></th>\n",
       "      <th>0</th>\n",
       "      <th>1</th>\n",
       "    </tr>\n",
       "  </thead>\n",
       "  <tbody>\n",
       "    <tr>\n",
       "      <th>0</th>\n",
       "      <td>238.85800</td>\n",
       "      <td>5.856426e-15</td>\n",
       "    </tr>\n",
       "    <tr>\n",
       "      <th>1</th>\n",
       "      <td>238.85801</td>\n",
       "      <td>5.856426e-15</td>\n",
       "    </tr>\n",
       "    <tr>\n",
       "      <th>2</th>\n",
       "      <td>238.85802</td>\n",
       "      <td>5.856426e-15</td>\n",
       "    </tr>\n",
       "    <tr>\n",
       "      <th>3</th>\n",
       "      <td>238.85803</td>\n",
       "      <td>5.856426e-15</td>\n",
       "    </tr>\n",
       "    <tr>\n",
       "      <th>4</th>\n",
       "      <td>238.85804</td>\n",
       "      <td>5.856426e-15</td>\n",
       "    </tr>\n",
       "  </tbody>\n",
       "</table>\n",
       "</div>"
      ],
      "text/plain": [
       "           0             1\n",
       "0  238.85800  5.856426e-15\n",
       "1  238.85801  5.856426e-15\n",
       "2  238.85802  5.856426e-15\n",
       "3  238.85803  5.856426e-15\n",
       "4  238.85804  5.856426e-15"
      ]
     },
     "execution_count": 5,
     "metadata": {},
     "output_type": "execute_result"
    }
   ],
   "source": [
    "start_time = time.time()\n",
    "df_data = pd.read_csv('data/params/model_parameters_data_all.txt', sep=' ', header=None) # all data dataframe\n",
    "print(time.time() - start_time)\n",
    "df_data.head()"
   ]
  },
  {
   "cell_type": "code",
   "execution_count": 6,
   "id": "049a8be0",
   "metadata": {},
   "outputs": [
    {
     "data": {
      "text/plain": [
       "(178500000, 2)"
      ]
     },
     "execution_count": 6,
     "metadata": {},
     "output_type": "execute_result"
    }
   ],
   "source": [
    "df_data.shape"
   ]
  },
  {
   "cell_type": "code",
   "execution_count": null,
   "id": "706fc484-7eb5-4fb4-bf66-23d025f52ed4",
   "metadata": {},
   "outputs": [],
   "source": [
    "df_param = pd.read_csv('data/params/model_parameters_data.csv')\n",
    "df_param.head()"
   ]
  },
  {
   "cell_type": "code",
   "execution_count": null,
   "id": "f75a4c0a",
   "metadata": {},
   "outputs": [],
   "source": [
    "# drop the second and fourth column\n",
    "df_param.drop(['B', 'D'], axis=1, inplace=True)"
   ]
  },
  {
   "cell_type": "code",
   "execution_count": null,
   "id": "379d20bf",
   "metadata": {},
   "outputs": [],
   "source": [
    "# transform the data to the right dataframe\n",
    "df_param = df_param.assign(g = df_param.groupby('A').cumcount()).pivot(index='g', columns='A', values='C')"
   ]
  },
  {
   "cell_type": "code",
   "execution_count": null,
   "id": "f17258a6",
   "metadata": {},
   "outputs": [],
   "source": [
    "df_param.head(10)"
   ]
  },
  {
   "cell_type": "code",
   "execution_count": null,
   "id": "99d5628a",
   "metadata": {},
   "outputs": [],
   "source": [
    "df_param.columns"
   ]
  },
  {
   "cell_type": "code",
   "execution_count": null,
   "id": "2ce7ad84",
   "metadata": {},
   "outputs": [],
   "source": [
    "columns = ['Frequency', 'Intensity']\n",
    "df_data.columns = columns\n",
    "df_data.shape"
   ]
  },
  {
   "cell_type": "code",
   "execution_count": null,
   "id": "78e020db",
   "metadata": {},
   "outputs": [],
   "source": [
    "df_data.head()"
   ]
  },
  {
   "cell_type": "code",
   "execution_count": null,
   "id": "0687b22c",
   "metadata": {},
   "outputs": [],
   "source": [
    "freq_sig = np.array(np.array_split(df_data['Frequency'], len(files)))\n",
    "signal = np.array(np.array_split(df_data['Intensity'], len(files)))\n",
    "\n",
    "# plot the signal in one plot\n",
    "plt.figure(figsize=(10, 6))\n",
    "sns.set_style(\"whitegrid\")\n",
    "plt.plot(freq_sig[0],  signal[0], color='r', label='Spectrum 1')\n",
    "plt.plot(freq_sig[1], signal[1], color='g', label='Spectrum 2')\n",
    "plt.plot(freq_sig[2], signal[2], color='b', label='Spectrum 3')\n",
    "plt.plot(freq_sig[3], signal[3], color='y', label='Spectrum 4')\n",
    "plt.plot(freq_sig[4], signal[4], color='k', label='Spectrum 5')\n",
    "plt.xlabel(\"Frequency (GHz)\")\n",
    "plt.ylabel(\"Intensity (K)\")\n",
    "plt.legend()\n",
    "plt.show()"
   ]
  },
  {
   "cell_type": "code",
   "execution_count": null,
   "id": "dd31b1ca",
   "metadata": {},
   "outputs": [],
   "source": [
    "# plot the data in separate plots\n",
    "fig, axes = plt.subplots(nrows=1, ncols=5, figsize=(15, 6))\n",
    "sns.set_style(\"whitegrid\")\n",
    "for i, ax in enumerate(axes.ravel(), start=1):\n",
    "    ax.plot(freq_sig[i-1], signal[i-1], label='Spectrum {}'.format(i))\n",
    "    ax.set_xlabel(\"Frequency (GHz)\", fontdict={'fontsize': 14})\n",
    "    ax.set_ylabel(\"Intensity (K)\", fontdict={'fontsize': 14})\n",
    "    ax.set_title(\"Spectrum {}\".format(i))\n",
    "    \n",
    "# plt.savefig('../spectra/simulated_data/spectrum_plots.png')"
   ]
  },
  {
   "cell_type": "code",
   "execution_count": null,
   "id": "4c2c85d9",
   "metadata": {},
   "outputs": [],
   "source": [
    "# print(pywt.wavelist())"
   ]
  },
  {
   "cell_type": "markdown",
   "id": "9d8bee59",
   "metadata": {},
   "source": [
    "### Feature Extraction - Wavelet Decomposition"
   ]
  },
  {
   "cell_type": "code",
   "execution_count": null,
   "id": "29934f4a",
   "metadata": {},
   "outputs": [],
   "source": [
    "#create a  feature vector array for each spectrum \n",
    "feature_vector = np.zeros((len(signal), int(df_data.shape[0]/len(files))))\n",
    "detail_coeffs = np.zeros((len(signal), 558))\n",
    "approx_coeffs = np.zeros((len(signal), 558))\n",
    "level = 6\n",
    "wname = 'db35'\n",
    "def decompose_signal_dwt(_signal, wavelet=wname, mode='per', level=level):\n",
    "    \"\"\"\n",
    "    Performs wavelet denoising on the given signal.\n",
    "    \"\"\"\n",
    "    # loop throuh all the spectra \n",
    "    for spectra_index in range(len(_signal)):\n",
    "        # max_level = pywt.dwt_max_level(len(_signal[spectra_index]), wavelet)\n",
    "        coeffs = pywt.wavedec(_signal[spectra_index], wavelet=wavelet, mode=mode, level=level)\n",
    "        coeff_arr, coeff_slices = pywt.coeffs_to_array(coeffs)\n",
    "        detail_coeffs[spectra_index, :] = coeff_arr[coeff_slices[1]['d']] # 4th level detail coeffs \n",
    "        # get the approximation coeffs\n",
    "        approx_coeffs[spectra_index, :] = coeffs[0] # 4th level approximation coeffs\n",
    "        \n",
    "        reconstructed_signal = pywt.waverec(coeffs, wavelet=wavelet, mode=mode)\n",
    "        feature_vector[spectra_index, :] = coeff_arr[:int(df_data.shape[0]/len(files))]\n",
    "        # add the coeff_arr to the dataframe for each spectra\n",
    "        # df_data['fv_dwt_{}'.format(wavelet)] = pd.Series(feature_vector.reshape(1, -1)[0], index=df_data.index) #TODO: find a way to optimize (or comment it out)\n",
    "        \n",
    "    return coeff_arr, coeff_slices"
   ]
  },
  {
   "cell_type": "code",
   "execution_count": null,
   "id": "1bc1841e",
   "metadata": {},
   "outputs": [],
   "source": [
    "feature_vector.shape"
   ]
  },
  {
   "cell_type": "code",
   "execution_count": null,
   "id": "9dc5f997",
   "metadata": {},
   "outputs": [],
   "source": [
    "start_timer = time.time()\n",
    "coeff_arr, coeff_slices = decompose_signal_dwt(signal)\n",
    "print(time.time() - start_timer)\n",
    "df_data"
   ]
  },
  {
   "cell_type": "code",
   "execution_count": null,
   "id": "b7687132",
   "metadata": {},
   "outputs": [],
   "source": [
    "detail_coeffs.shape\n",
    "detail_coeffs"
   ]
  },
  {
   "cell_type": "markdown",
   "id": "a2eb6be3",
   "metadata": {},
   "source": [
    "## Wavelet Decomposition Plots"
   ]
  },
  {
   "cell_type": "code",
   "execution_count": null,
   "id": "8b325988",
   "metadata": {},
   "outputs": [],
   "source": [
    "def decomposed_dwt_detail_coeffs_plots(_signal, wavelet=wname, level=level):\n",
    "    \"\"\"\n",
    "    Plots of the detail coeffs of the signal.\n",
    "    \"\"\"\n",
    "    # plot the reconstructed signal and the original signal in one plot\n",
    "    for spectra_index in range(len(_signal)):                     \n",
    "        # compute the maximum useful level of decomposition for each wavelet                        \n",
    "        # max_level = pywt.dwt_max_level(len(_signal[spectra_index]), wavelet)\n",
    "        fig, axes = plt.subplots(nrows=1, ncols=level, dpi=400, sharey='none', sharex='all', figsize=(18, 5))\n",
    "        sns.set_style(\"whitegrid\")\n",
    "        for i, ax in enumerate(axes.ravel(), start=1):\n",
    "            ax.plot(coeff_arr[coeff_slices[i]['d']], label='Level {}'.format(i))\n",
    "            ax.set_xlabel(\"Frequency (GHz)\", fontdict={'fontsize': 14})\n",
    "            ax.set_ylabel(\"Intensity (K)\", fontdict={'fontsize': 14})\n",
    "            ax.set_title(\"Spectrum {} detail coeffiecients at level {} for {} \".format(spectra_index+1, i, wavelet)) \n",
    "            \n",
    "        plt.show()"
   ]
  },
  {
   "cell_type": "code",
   "execution_count": null,
   "id": "28a099b5",
   "metadata": {
    "tags": []
   },
   "outputs": [],
   "source": [
    "# decomposed_dwt_detail_coeffs_plots(signal) "
   ]
  },
  {
   "cell_type": "code",
   "execution_count": null,
   "id": "63d9feea",
   "metadata": {},
   "outputs": [],
   "source": [
    "# TODO: find a way to plot the detail coefficients of the signal\n",
    "def decomposed_dwt_approx_coeffs_plots(_signal, wavelet=wname, level=level):\n",
    "    \n",
    "    for spectra_index in range(len(_signal)):\n",
    "        fig, axes = plt.subplots(nrows=1, ncols=level, figsize=(10, 6))\n",
    "        sns.set_style(\"whitegrid\")\n",
    "        for i, ax in enumerate(axes.ravel(), start=1):\n",
    "            ax.plot(coeff_arr[coeff_slices[1]['d']])\n",
    "            ax.set_title(\"Spectrum {} approximation coeffiecients at level {} for {} \".format(spectra_index+1, i,  wavelet))\n",
    "            \n",
    "        plt.show()"
   ]
  },
  {
   "cell_type": "code",
   "execution_count": null,
   "id": "bcba1ae4",
   "metadata": {
    "tags": []
   },
   "outputs": [],
   "source": [
    "# decomposed_dwt_approx_coeffs_plots(signal)"
   ]
  },
  {
   "cell_type": "markdown",
   "id": "f09f34ae",
   "metadata": {},
   "source": [
    "### Get Features and Labels"
   ]
  },
  {
   "cell_type": "code",
   "execution_count": null,
   "id": "85c6c830",
   "metadata": {},
   "outputs": [],
   "source": [
    "# fv = np.zeros((len(signal), int(df.shape[0]/len(files))))\n",
    "# for spectra_index in range(len(signal)):\n",
    "#     # get the level 3 detail coefficients\n",
    "#     detail_coeffs = coeff_arr[coeff_slices[3]['d']]\n",
    "\n",
    "# fv  = detail_coeffs\n",
    "# labels =dff"
   ]
  },
  {
   "cell_type": "code",
   "execution_count": null,
   "id": "fa22b39a-d1a3-49ef-ad34-967617b3a6e9",
   "metadata": {},
   "outputs": [],
   "source": [
    "# len(signal)\n",
    "\n",
    "approx_coeffs.shape"
   ]
  },
  {
   "cell_type": "markdown",
   "id": "2d7ca099-07fe-43c7-8f51-dffaea47e77b",
   "metadata": {},
   "source": [
    " #### Have a glimpse look at any of the signal and its generated detail and approximation coefficients "
   ]
  },
  {
   "cell_type": "code",
   "execution_count": null,
   "id": "80fb5cc9-a745-445e-b09d-c4721e90663f",
   "metadata": {
    "tags": []
   },
   "outputs": [],
   "source": [
    "\n",
    "# for spectra_index in range(len(signal)):                     \n",
    "#         # compute the maximum useful level of decomposition for each wavelet                        \n",
    "#         # max_level = pywt.dwt_max_level(len(_signal[spectra_index]), wavelet)\n",
    "#         fig, axes = plt.subplots(nrows=1, ncols=10, sharey='none', sharex='all', figsize=(20, 7))\n",
    "#         sns.set_style(\"whitegrid\")\n",
    "#         for i, ax in enumerate(axes.ravel(), start=1):\n",
    "#             ax.plot(signal[spectra_index], label='Spectrum {}'.format(spectra_index))\n",
    "#             # ax.set_xlabel(\"Frequency (GHz)\", fontdict={'fontsize': 14})\n",
    "#             # ax.set_ylabel(\"Intensity (K)\", fontdict={'fontsize': 14})\n",
    "#             # ax.set_title(\"Spectrum {} detail coeffiecients at level {} for {} \".format(spectra_index+1, i, wavelet)) \n",
    "\n",
    "#     # ax[0,1].plot(signal[spectra_index], label='original')\n",
    "#     # ax[1,1].plot(approx_coeffs[spectra_index], label='spectrum {} approx coeff'.format(spectra_index+1))\n",
    "#     # ax[2,1].plot(detail_coeffs[spectra_index], label='spectrum {} detail coeff'.format(spectra_index+1))\n",
    "# plt.legend()\n",
    "# plt.show()"
   ]
  },
  {
   "cell_type": "code",
   "execution_count": null,
   "id": "a40ed4c8-22a4-4b54-96ad-ea515e68bad1",
   "metadata": {},
   "outputs": [],
   "source": [
    "plt.figure(figsize=(20,7))\n",
    "plt.plot(signal[243], label='original - 243')\n",
    "plt.legend()\n",
    "plt.savefig(\"data/5K_gen_files/original.png\")\n",
    "plt.show()"
   ]
  },
  {
   "cell_type": "code",
   "execution_count": null,
   "id": "13fbd9db-c3ac-43d8-a85c-9af129f8c0f4",
   "metadata": {},
   "outputs": [],
   "source": [
    "plt.figure(figsize=(20,7))\n",
    "plt.plot(approx_coeffs[243], label='approx coeff - 243')\n",
    "plt.legend()\n",
    "plt.savefig(\"data/5K_gen_files/approx_level6.png\")\n",
    "plt.show()"
   ]
  },
  {
   "cell_type": "code",
   "execution_count": null,
   "id": "d0298f81-1254-4b51-b1fd-ed2c087b3364",
   "metadata": {},
   "outputs": [],
   "source": [
    "plt.figure(figsize=(20,7))\n",
    "plt.plot(detail_coeffs[243], label='detail - 243')\n",
    "plt.legend()\n",
    "plt.savefig(\"data/5K_gen_files/detail_level6.png\")\n",
    "plt.show()"
   ]
  },
  {
   "cell_type": "code",
   "execution_count": null,
   "id": "380b1086",
   "metadata": {},
   "outputs": [],
   "source": [
    "features = detail_coeffs\n",
    "labels_ = df_param\n",
    "\n",
    "print('feature_shape: ', features.shape, 'labels_shape: ', labels_.shape)\n"
   ]
  },
  {
   "cell_type": "code",
   "execution_count": null,
   "id": "9439a1c4",
   "metadata": {},
   "outputs": [],
   "source": [
    "# drop the tcmb column\n",
    "labels_.drop(columns=['tcmb'], inplace=True)"
   ]
  },
  {
   "cell_type": "markdown",
   "id": "65a05446",
   "metadata": {},
   "source": [
    "#### save the true params to a file"
   ]
  },
  {
   "cell_type": "code",
   "execution_count": null,
   "id": "d9489549",
   "metadata": {},
   "outputs": [],
   "source": [
    "labels_.head()"
   ]
  },
  {
   "cell_type": "code",
   "execution_count": null,
   "id": "198312d9",
   "metadata": {},
   "outputs": [],
   "source": [
    "# get the last 1500 data of the parameters from labels \n",
    "df_param = df_param.iloc[-1500:, :]\n",
    "# save the vals to a csv file\n",
    "df_param.to_csv(\"data/5K_gen_files/true_param_vals.csv\")\n",
    "df_param.head()\n"
   ]
  },
  {
   "cell_type": "code",
   "execution_count": null,
   "id": "dfbab992-9582-4aeb-9867-a1b35e7a8976",
   "metadata": {},
   "outputs": [],
   "source": [
    "labels_"
   ]
  },
  {
   "cell_type": "code",
   "execution_count": null,
   "id": "6c460032-3229-4423-878b-d42828cc935d",
   "metadata": {},
   "outputs": [],
   "source": [
    "df = pd.DataFrame(approx_coeffs)\n",
    "# df = pd.concat([approx_coeffs, labels_], axis=1)"
   ]
  },
  {
   "cell_type": "code",
   "execution_count": null,
   "id": "34d265ac-f2df-424b-ac64-432c32b1b9a2",
   "metadata": {},
   "outputs": [],
   "source": [
    "df"
   ]
  },
  {
   "cell_type": "code",
   "execution_count": null,
   "id": "802d06c9-730a-4581-a78c-7029034dc55a",
   "metadata": {},
   "outputs": [],
   "source": [
    "# convert the ntot column to log values \n",
    "labels_['ntot'] = np.log(labels_['ntot'])"
   ]
  },
  {
   "cell_type": "code",
   "execution_count": null,
   "id": "7fee9873-32c5-4ffd-ba2e-4015987ce791",
   "metadata": {},
   "outputs": [],
   "source": [
    "labels_"
   ]
  },
  {
   "cell_type": "code",
   "execution_count": null,
   "id": "103e34a0-b478-43df-b31c-4ce8bf181922",
   "metadata": {},
   "outputs": [],
   "source": [
    "df = pd.concat([df, labels_], axis=1)"
   ]
  },
  {
   "cell_type": "code",
   "execution_count": null,
   "id": "a4d6c258-04ca-492b-8f67-9325cf4fa50c",
   "metadata": {},
   "outputs": [],
   "source": [
    "df"
   ]
  },
  {
   "cell_type": "code",
   "execution_count": null,
   "id": "2b48d6e6-42dc-464b-9d2b-287ea9f465f2",
   "metadata": {},
   "outputs": [],
   "source": [
    "X = df.iloc[:, :558]\n",
    "y = df.iloc[:, -5:]\n"
   ]
  },
  {
   "cell_type": "code",
   "execution_count": null,
   "id": "f0a83dd2",
   "metadata": {
    "collapsed": false,
    "jupyter": {
     "outputs_hidden": false
    },
    "pycharm": {
     "name": "#%%\n"
    }
   },
   "outputs": [],
   "source": [
    "X"
   ]
  },
  {
   "cell_type": "code",
   "execution_count": null,
   "id": "43b85770-ff82-47ff-87dc-a075a2c5689f",
   "metadata": {},
   "outputs": [],
   "source": [
    "y"
   ]
  },
  {
   "cell_type": "markdown",
   "id": "79a1d2f1",
   "metadata": {},
   "source": [
    "## Modelling"
   ]
  },
  {
   "cell_type": "markdown",
   "id": "ae2d92b3-cffa-4a4f-9752-9851a7b3e08d",
   "metadata": {},
   "source": [
    "#### split the data into the training and test set"
   ]
  },
  {
   "cell_type": "code",
   "execution_count": null,
   "id": "38d5039d",
   "metadata": {},
   "outputs": [],
   "source": [
    "from sklearn import metrics\n",
    "from sklearn.ensemble import RandomForestRegressor, GradientBoostingRegressor\n",
    "from sklearn.model_selection import train_test_split, RandomizedSearchCV, GridSearchCV"
   ]
  }
 ],
 "metadata": {
  "kernelspec": {
   "display_name": "Python 3 (ipykernel)",
   "language": "python",
   "name": "python3"
  },
  "language_info": {
   "codemirror_mode": {
    "name": "ipython",
    "version": 3
   },
   "file_extension": ".py",
   "mimetype": "text/x-python",
   "name": "python",
   "nbconvert_exporter": "python",
   "pygments_lexer": "ipython3",
   "version": "3.8.2"
  },
  "vscode": {
   "interpreter": {
    "hash": "701d4f28dcd0866722f5108a3a4cbcd08882d26398b6d44117e791d7b8102912"
   }
  }
 },
 "nbformat": 4,
 "nbformat_minor": 5
}
