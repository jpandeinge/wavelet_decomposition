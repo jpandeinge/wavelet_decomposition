{
 "cells": [
  {
   "cell_type": "code",
   "execution_count": 1,
   "id": "33f44032-bf66-47de-a856-2c54a4c2d85c",
   "metadata": {},
   "outputs": [],
   "source": [
    "import re\n",
    "import glob\n",
    "import pandas as pd\n",
    "import numpy as np\n",
    "\n",
    "import seaborn as sns\n",
    "import matplotlib.pyplot as plt"
   ]
  },
  {
   "cell_type": "markdown",
   "id": "32fc427a-85d8-4f4c-978e-9835a5f5fe98",
   "metadata": {},
   "source": [
    "### Concatenate all the files"
   ]
  },
  {
   "cell_type": "code",
   "execution_count": 2,
   "id": "30c7def6",
   "metadata": {},
   "outputs": [
    {
     "name": "stdout",
     "output_type": "stream",
     "text": [
      "0          model_parameters_data0.txt\n",
      "1          model_parameters_data2.txt\n",
      "2          model_parameters_data4.txt\n",
      "3          model_parameters_data5.txt\n",
      "4          model_parameters_data6.txt\n",
      "                    ...              \n",
      "3672    model_parameters_data4993.txt\n",
      "3673    model_parameters_data4995.txt\n",
      "3674    model_parameters_data4996.txt\n",
      "3675    model_parameters_data4998.txt\n",
      "3676    model_parameters_data4999.txt\n",
      "Name: filename, Length: 3677, dtype: object\n"
     ]
    }
   ],
   "source": [
    "# get path to all files\n",
    "path = 'data/spectra/simulated_data/'\n",
    "files = sorted(glob.glob(path + 'model_parameters_data*.txt'), key=lambda x: int(re.search(r'\\d+', x).group()))\n",
    "\n",
    "vlsr_list = []\n",
    "filename_list = []\n",
    "\n",
    "for file in files:\n",
    "    data = pd.read_csv(file, sep='\\t', header=None)\n",
    "    \n",
    "    # get the postive and negative float values of line 6 using regular expression\n",
    "    vlsr_list.append(float(re.findall(r'[+-]?\\d+\\.\\d+', str(data.iloc[5, :]))[0]))\n",
    "\n",
    "    # append filename to list\n",
    "    filename_list.append(file.split('/')[-1])\n",
    "\n",
    "# put the filename and vlsr values in a dataframe\n",
    "vlsr_df = pd.DataFrame({'filename': filename_list, 'vlsr': vlsr_list})\n",
    "vlsr_df = vlsr_df[vlsr_df['vlsr']>-60].reset_index(drop=True)\n",
    "print(vlsr_df['filename'])\n"
   ]
  },
  {
   "cell_type": "code",
   "execution_count": 3,
   "id": "6fe6c99f",
   "metadata": {},
   "outputs": [
    {
     "data": {
      "text/plain": [
       "3677"
      ]
     },
     "execution_count": 3,
     "metadata": {},
     "output_type": "execute_result"
    }
   ],
   "source": [
    "len(vlsr_df['filename'].values)"
   ]
  },
  {
   "cell_type": "code",
   "execution_count": null,
   "id": "3779dc39",
   "metadata": {},
   "outputs": [],
   "source": [
    "path = 'data/spectra/test/'\n",
    "files = sorted(glob.glob(path + 'model_parameters_data*.txt'), key=lambda x: int(re.search(r'\\d+', x).group()))\n",
    "\n",
    "# read the data from the files by skipping the first 10 rows for each file. \n",
    "df = pd.DataFrame()\n",
    "dff = pd.DataFrame()\n",
    "for file in files:\n",
    "    # get the data points\n",
    "    df = df.append(pd.read_csv(file, skiprows=10, header=None, sep=' '))\n",
    "    # get the parameters used\n",
    "    dff = dff.append(pd.read_csv(file, skiprows=1, nrows=6, header=None, sep=' ', names=['A', 'B', 'C', 'D']))"
   ]
  },
  {
   "cell_type": "code",
   "execution_count": null,
   "id": "7fecd434",
   "metadata": {},
   "outputs": [],
   "source": [
    "columns = ['Frequency', 'Intensity']\n",
    "df.columns = columns\n",
    "df.shape"
   ]
  },
  {
   "cell_type": "code",
   "execution_count": null,
   "id": "a284e8b6",
   "metadata": {},
   "outputs": [],
   "source": [
    "freq_sig = np.array(np.array_split(df['Frequency'], len(files)))\n",
    "signal = np.array(np.array_split(df['Intensity'], len(files)))\n",
    "\n",
    "# plot the signal in one plot\n",
    "plt.figure(figsize=(15, 6))\n",
    "sns.set_style(\"darkgrid\")\n",
    "# plt.plot(freq_sig[0],  signal[0], color='r', label='Spectrum 1')\n",
    "# plt.plot(freq_sig[1], signal[1], color='g', label='Spectrum 2')\n",
    "# plt.plot(freq_sig[2], signal[2], color='b', label='Spectrum 3')\n",
    "# plt.plot(freq_sig[3], signal[3], color='y', label='Spectrum 4')\n",
    "plt.plot(freq_sig[13], signal[13], color='k', label='Spectrum 5')\n",
    "plt.xlabel(\"Frequency (GHz)\")\n",
    "plt.ylabel(\"Intensity (K)\")\n",
    "plt.legend()\n",
    "plt.show()"
   ]
  },
  {
   "cell_type": "code",
   "execution_count": null,
   "id": "73255779",
   "metadata": {},
   "outputs": [],
   "source": [
    "fig, axes = plt.subplots(nrows=1, ncols=12, figsize=(50, 7))\n",
    "sns.set_style(\"darkgrid\")\n",
    "for i, ax in enumerate(axes.ravel(), start=1):\n",
    "    ax.plot(freq_sig[i-1], signal[i-1], label='Spectrum {}'.format(i))\n",
    "    ax.set_xlabel(\"Frequency (GHz)\", fontdict={'fontsize': 14})\n",
    "    ax.set_ylabel(\"Intensity (K)\", fontdict={'fontsize': 14})\n",
    "    ax.set_title(\"Spectrum {}\".format(i))"
   ]
  },
  {
   "cell_type": "code",
   "execution_count": null,
   "id": "a5886348",
   "metadata": {},
   "outputs": [],
   "source": [
    "# start_timer = time.time()\n",
    "# # get the params data\n",
    "# df_param = pd.DataFrame()\n",
    "# for file in files:\n",
    "#     # get the parameters used\n",
    "#     df_param = df_param.append(pd.read_csv(file, skiprows=1, nrows=6, header=None, sep=' ', names=['A', 'B', 'C', 'D']))\n",
    "#     # save the dataframe to a csv file\n",
    "#     df_param.to_csv('model_parameters_data.csv', index=False)\n",
    "    \n",
    "# print(time.time() - start_timer)"
   ]
  },
  {
   "cell_type": "markdown",
   "id": "268cf9e9-4d06-4471-be10-6978f775226d",
   "metadata": {},
   "source": [
    "#### Load the files "
   ]
  },
  {
   "cell_type": "code",
   "execution_count": null,
   "id": "e25f7867",
   "metadata": {},
   "outputs": [],
   "source": [
    "start_time = time.time()\n",
    "df_data = pd.read_csv('data/params/model_parameters_data_all.txt', sep=' ', header=None) # all data dataframe\n",
    "print(time.time() - start_time)\n",
    "df_data.head()"
   ]
  },
  {
   "cell_type": "code",
   "execution_count": null,
   "id": "049a8be0",
   "metadata": {},
   "outputs": [],
   "source": [
    "df_data.shape"
   ]
  },
  {
   "cell_type": "code",
   "execution_count": null,
   "id": "706fc484-7eb5-4fb4-bf66-23d025f52ed4",
   "metadata": {},
   "outputs": [],
   "source": [
    "df_param = pd.read_csv('data/params/model_parameters_data.csv')\n",
    "df_param.head()"
   ]
  },
  {
   "cell_type": "code",
   "execution_count": null,
   "id": "f75a4c0a",
   "metadata": {},
   "outputs": [],
   "source": [
    "# drop the second and fourth column\n",
    "df_param.drop(['B', 'D'], axis=1, inplace=True)"
   ]
  },
  {
   "cell_type": "code",
   "execution_count": null,
   "id": "379d20bf",
   "metadata": {},
   "outputs": [],
   "source": [
    "# transform the data to the right dataframe\n",
    "df_param = df_param.assign(g = df_param.groupby('A').cumcount()).pivot(index='g', columns='A', values='C')"
   ]
  },
  {
   "cell_type": "code",
   "execution_count": null,
   "id": "f17258a6",
   "metadata": {},
   "outputs": [],
   "source": [
    "df_param.head(10)"
   ]
  },
  {
   "cell_type": "code",
   "execution_count": null,
   "id": "99d5628a",
   "metadata": {},
   "outputs": [],
   "source": [
    "df_param.columns"
   ]
  },
  {
   "cell_type": "code",
   "execution_count": null,
   "id": "2ce7ad84",
   "metadata": {},
   "outputs": [],
   "source": [
    "columns = ['Frequency', 'Intensity']\n",
    "df_data.columns = columns\n",
    "df_data.shape"
   ]
  },
  {
   "cell_type": "code",
   "execution_count": null,
   "id": "78e020db",
   "metadata": {},
   "outputs": [],
   "source": [
    "df_data.head()"
   ]
  },
  {
   "cell_type": "code",
   "execution_count": null,
   "id": "0687b22c",
   "metadata": {},
   "outputs": [],
   "source": [
    "freq_sig = np.array(np.array_split(df_data['Frequency'], len(files)))\n",
    "signal = np.array(np.array_split(df_data['Intensity'], len(files)))\n",
    "\n",
    "# plot the signal in one plot\n",
    "plt.figure(figsize=(10, 6))\n",
    "sns.set_style(\"whitegrid\")\n",
    "plt.plot(freq_sig[0],  signal[0], color='r', label='Spectrum 1')\n",
    "plt.plot(freq_sig[1], signal[1], color='g', label='Spectrum 2')\n",
    "plt.plot(freq_sig[2], signal[2], color='b', label='Spectrum 3')\n",
    "plt.plot(freq_sig[3], signal[3], color='y', label='Spectrum 4')\n",
    "plt.plot(freq_sig[4], signal[4], color='k', label='Spectrum 5')\n",
    "plt.xlabel(\"Frequency (GHz)\")\n",
    "plt.ylabel(\"Intensity (K)\")\n",
    "plt.legend()\n",
    "plt.show()"
   ]
  }
 ],
 "metadata": {
  "kernelspec": {
   "display_name": "Python 3 (ipykernel)",
   "language": "python",
   "name": "python3"
  },
  "language_info": {
   "codemirror_mode": {
    "name": "ipython",
    "version": 3
   },
   "file_extension": ".py",
   "mimetype": "text/x-python",
   "name": "python",
   "nbconvert_exporter": "python",
   "pygments_lexer": "ipython3",
   "version": "3.8.2"
  },
  "vscode": {
   "interpreter": {
    "hash": "701d4f28dcd0866722f5108a3a4cbcd08882d26398b6d44117e791d7b8102912"
   }
  }
 },
 "nbformat": 4,
 "nbformat_minor": 5
}
