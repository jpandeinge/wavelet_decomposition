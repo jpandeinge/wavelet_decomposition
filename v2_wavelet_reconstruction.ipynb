{
 "cells": [
  {
   "cell_type": "code",
   "execution_count": 1,
   "id": "33f44032-bf66-47de-a856-2c54a4c2d85c",
   "metadata": {},
   "outputs": [],
   "source": [
    "import re\n",
    "import glob\n",
    "\n",
    "import numpy as np\n",
    "import pandas as pd\n",
    "\n",
    "import seaborn as sns\n",
    "import matplotlib.pyplot as plt\n",
    "\n",
    "from filter_files import get_filenames\n",
    "\n",
    "import warnings\n",
    "warnings.filterwarnings(\"ignore\", category=FutureWarning)\n",
    "\n",
    "%matplotlib inline"
   ]
  },
  {
   "cell_type": "markdown",
   "id": "32fc427a-85d8-4f4c-978e-9835a5f5fe98",
   "metadata": {},
   "source": [
    "### Concatenate all the files \n",
    "\n",
    "Get all the original files which match the ones with a vlsr greater than -60 km/s."
   ]
  },
  {
   "cell_type": "code",
   "execution_count": 2,
   "id": "54ea15b9",
   "metadata": {},
   "outputs": [],
   "source": [
    "simul_path = 'data/spectra/simulated_data/'\n",
    "\n",
    "filenames = get_filenames(simul_path)\n",
    "files =  [simul_path + filename for filename in filenames]\n",
    "\n",
    "params_path = 'data/params/'\n",
    "write_data = open(params_path + 'simulated_data_rf_less_5k.txt', 'w')\n",
    "\n",
    "for file in files:\n",
    "    with open(file, 'r') as f:\n",
    "        for i in range(10):\n",
    "            f.readline()\n",
    "         # read in the data from each file\n",
    "        data = f.readlines()\n",
    "        # write the data to the output file in the same order as the files\n",
    "        for i in range(len(data)):\n",
    "            write_data.write(data[i])\n",
    "\n",
    "write_data.close() "
   ]
  },
  {
   "cell_type": "markdown",
   "id": "e3ccd04c",
   "metadata": {},
   "source": [
    "Get all the reconstructed files from the predicted parameters and save them in one file."
   ]
  },
  {
   "cell_type": "code",
   "execution_count": 3,
   "id": "d093eb9c",
   "metadata": {},
   "outputs": [],
   "source": [
    "recon_path = 'data/spectra/reconstructed/rf_less/'\n",
    "recon_files = sorted(glob.glob(recon_path + 'recon_param_data*.txt'), key=lambda x: int(re.search(r'\\d+', x).group()))\n",
    "\n",
    "df = pd.DataFrame()\n",
    "for file in recon_files:\n",
    "    # get the data points\n",
    "    df = df.append(pd.read_csv(file, skiprows=10, header=None, sep=' '))\n",
    "\n",
    "df.to_csv(params_path + 'reconstructed_data_rf_less_5k.txt', sep=' ', index=False)"
   ]
  },
  {
   "cell_type": "markdown",
   "id": "268cf9e9-4d06-4471-be10-6978f775226d",
   "metadata": {},
   "source": [
    "#### Load the files "
   ]
  },
  {
   "cell_type": "code",
   "execution_count": 4,
   "id": "e25f7867",
   "metadata": {},
   "outputs": [],
   "source": [
    "df_recon = pd.read_csv(params_path + 'reconstructed_data_rf_less_5k.txt', sep=' ', header=None, skiprows=1) # all the reconstructed data from the predicted parameters\n",
    "df_data = pd.read_csv(params_path + 'simulated_data_rf_less_5k.txt', sep=' ', header=None) # all original filtered data\n",
    "# df_data.head()"
   ]
  },
  {
   "cell_type": "code",
   "execution_count": 5,
   "id": "182f0588",
   "metadata": {},
   "outputs": [
    {
     "data": {
      "text/plain": [
       "((63742000, 2), (212396000, 2))"
      ]
     },
     "execution_count": 5,
     "metadata": {},
     "output_type": "execute_result"
    }
   ],
   "source": [
    "df_recon.shape, df_data.shape"
   ]
  },
  {
   "cell_type": "code",
   "execution_count": 6,
   "id": "781371cd-ec97-4b22-ba9e-e7e6d24a5bb0",
   "metadata": {},
   "outputs": [],
   "source": [
    "# get the last 1104 from the df_data datatrame, to get the \n",
    "# the data points that was used in the prediction of the parameterss\n",
    "df_sig = df_data.iloc[-63742000:]"
   ]
  },
  {
   "cell_type": "code",
   "execution_count": 7,
   "id": "049a8be0",
   "metadata": {},
   "outputs": [
    {
     "data": {
      "text/html": [
       "<div>\n",
       "<style scoped>\n",
       "    .dataframe tbody tr th:only-of-type {\n",
       "        vertical-align: middle;\n",
       "    }\n",
       "\n",
       "    .dataframe tbody tr th {\n",
       "        vertical-align: top;\n",
       "    }\n",
       "\n",
       "    .dataframe thead th {\n",
       "        text-align: right;\n",
       "    }\n",
       "</style>\n",
       "<table border=\"1\" class=\"dataframe\">\n",
       "  <thead>\n",
       "    <tr style=\"text-align: right;\">\n",
       "      <th></th>\n",
       "      <th>0</th>\n",
       "      <th>1</th>\n",
       "    </tr>\n",
       "  </thead>\n",
       "  <tbody>\n",
       "    <tr>\n",
       "      <th>0</th>\n",
       "      <td>238.60000</td>\n",
       "      <td>0.0</td>\n",
       "    </tr>\n",
       "    <tr>\n",
       "      <th>1</th>\n",
       "      <td>238.60001</td>\n",
       "      <td>0.0</td>\n",
       "    </tr>\n",
       "    <tr>\n",
       "      <th>2</th>\n",
       "      <td>238.60002</td>\n",
       "      <td>0.0</td>\n",
       "    </tr>\n",
       "    <tr>\n",
       "      <th>3</th>\n",
       "      <td>238.60003</td>\n",
       "      <td>0.0</td>\n",
       "    </tr>\n",
       "    <tr>\n",
       "      <th>4</th>\n",
       "      <td>238.60004</td>\n",
       "      <td>0.0</td>\n",
       "    </tr>\n",
       "  </tbody>\n",
       "</table>\n",
       "</div>"
      ],
      "text/plain": [
       "           0    1\n",
       "0  238.60000  0.0\n",
       "1  238.60001  0.0\n",
       "2  238.60002  0.0\n",
       "3  238.60003  0.0\n",
       "4  238.60004  0.0"
      ]
     },
     "execution_count": 7,
     "metadata": {},
     "output_type": "execute_result"
    }
   ],
   "source": [
    "df_recon.head()"
   ]
  },
  {
   "cell_type": "code",
   "execution_count": 8,
   "id": "996ab75d-096f-4c4c-b53a-62b1b6e0c1a4",
   "metadata": {},
   "outputs": [
    {
     "data": {
      "text/html": [
       "<div>\n",
       "<style scoped>\n",
       "    .dataframe tbody tr th:only-of-type {\n",
       "        vertical-align: middle;\n",
       "    }\n",
       "\n",
       "    .dataframe tbody tr th {\n",
       "        vertical-align: top;\n",
       "    }\n",
       "\n",
       "    .dataframe thead th {\n",
       "        text-align: right;\n",
       "    }\n",
       "</style>\n",
       "<table border=\"1\" class=\"dataframe\">\n",
       "  <thead>\n",
       "    <tr style=\"text-align: right;\">\n",
       "      <th></th>\n",
       "      <th>0</th>\n",
       "      <th>1</th>\n",
       "    </tr>\n",
       "  </thead>\n",
       "  <tbody>\n",
       "    <tr>\n",
       "      <th>148654000</th>\n",
       "      <td>238.60000</td>\n",
       "      <td>0.0</td>\n",
       "    </tr>\n",
       "    <tr>\n",
       "      <th>148654001</th>\n",
       "      <td>238.60001</td>\n",
       "      <td>0.0</td>\n",
       "    </tr>\n",
       "    <tr>\n",
       "      <th>148654002</th>\n",
       "      <td>238.60002</td>\n",
       "      <td>0.0</td>\n",
       "    </tr>\n",
       "    <tr>\n",
       "      <th>148654003</th>\n",
       "      <td>238.60003</td>\n",
       "      <td>0.0</td>\n",
       "    </tr>\n",
       "    <tr>\n",
       "      <th>148654004</th>\n",
       "      <td>238.60004</td>\n",
       "      <td>0.0</td>\n",
       "    </tr>\n",
       "  </tbody>\n",
       "</table>\n",
       "</div>"
      ],
      "text/plain": [
       "                   0    1\n",
       "148654000  238.60000  0.0\n",
       "148654001  238.60001  0.0\n",
       "148654002  238.60002  0.0\n",
       "148654003  238.60003  0.0\n",
       "148654004  238.60004  0.0"
      ]
     },
     "execution_count": 8,
     "metadata": {},
     "output_type": "execute_result"
    }
   ],
   "source": [
    "df_sig.head()"
   ]
  },
  {
   "cell_type": "code",
   "execution_count": 9,
   "id": "706fc484-7eb5-4fb4-bf66-23d025f52ed4",
   "metadata": {},
   "outputs": [
    {
     "name": "stdout",
     "output_type": "stream",
     "text": [
      "Recon Shape:  (63742000, 2) Original sig Shape:  (63742000, 2)\n"
     ]
    }
   ],
   "source": [
    "print(\"Recon Shape: \", df_recon.shape,\"Original sig Shape: \", df_sig.shape)"
   ]
  },
  {
   "cell_type": "code",
   "execution_count": 10,
   "id": "2ce7ad84",
   "metadata": {},
   "outputs": [],
   "source": [
    "columns = ['Frequency', 'Intensity']\n",
    "df_recon.columns = columns\n",
    "df_sig.columns =  columns "
   ]
  },
  {
   "cell_type": "code",
   "execution_count": 11,
   "id": "4426577c-ef25-4827-b344-e896e113783e",
   "metadata": {},
   "outputs": [],
   "source": [
    "# get the frequency and intensity of the original synthethic spectra\n",
    "freq_sig = np.array(np.array_split(df_sig['Frequency'], len(recon_files)))\n",
    "inten_sig = np.array(np.array_split(df_sig['Intensity'], len(recon_files)))\n",
    "\n",
    "\n",
    "# get the frequency and intensity of the predicted spectra\n",
    "freq_recon = np.array(np.array_split(df_recon['Frequency'], len(recon_files)))\n",
    "inten_recon = np.array(np.array_split(df_recon['Intensity'], len(recon_files)))"
   ]
  },
  {
   "cell_type": "code",
   "execution_count": 12,
   "id": "73cfbe94",
   "metadata": {},
   "outputs": [
    {
     "data": {
      "text/plain": [
       "1099"
      ]
     },
     "execution_count": 12,
     "metadata": {},
     "output_type": "execute_result"
    }
   ],
   "source": [
    "len(recon_files)"
   ]
  },
  {
   "cell_type": "code",
   "execution_count": null,
   "id": "395b8149",
   "metadata": {},
   "outputs": [],
   "source": [
    "filename_number = []\n",
    "for file in filenames:\n",
    "    filename_number.append(int(re.search(r'\\d+', file).group()))\n",
    "\n",
    "\n",
    "sig_index_holder = np.array(filename_number[2563:])\n",
    "sig_index = []\n",
    "\n",
    "sig_index_holder\n",
    "    \n",
    "a = filename_number[2563:]\n",
    "\n",
    "    \n",
    "    \n",
    "   \n",
    "\n",
    "\n",
    "\n",
    "# make the signal index for the reconstructed data as the the filename number\n",
    "# sig_index = np.array(filename_number)\n",
    "\n"
   ]
  },
  {
   "cell_type": "code",
   "execution_count": null,
   "id": "8f465706",
   "metadata": {},
   "outputs": [],
   "source": [
    "sig_index[1099]\n",
    "1486"
   ]
  },
  {
   "cell_type": "code",
   "execution_count": null,
   "id": "7b5c9b1e",
   "metadata": {},
   "outputs": [],
   "source": [
    "len(filename_number)"
   ]
  },
  {
   "cell_type": "code",
   "execution_count": null,
   "id": "63bdd96d",
   "metadata": {},
   "outputs": [],
   "source": [
    "# get the  signal index for the filtered signals\n",
    "start_signal_index = 2564\n",
    "signal_index = []\n",
    "for i in range(len(recon_files)):\n",
    "    signal_index += [start_signal_index + i] "
   ]
  },
  {
   "cell_type": "code",
   "execution_count": null,
   "id": "2d399283-70b5-4e3e-8ceb-2f0ba6abdae7",
   "metadata": {},
   "outputs": [],
   "source": [
    "# plot the signal in one plot\n",
    "plt.figure(figsize=(10, 6))\n",
    "sns.set_style(\"whitegrid\")\n",
    "plt.plot(freq_sig[0],  inten_sig[0], color='r', label='Original Signal - {}'.format(signal_index[0]))\n",
    "plt.plot(freq_recon[0], inten_recon[0], color='b', label='Reconstructed Signal - {}'.format(signal_index[0]))\n",
    "plt.xlabel(\"Frequency (GHz)\")\n",
    "plt.ylabel(\"Intensity (K)\")\n",
    "plt.legend()\n",
    "# plt.savefig('Recon_params/recon_3501.png')\n",
    "plt.show()"
   ]
  },
  {
   "cell_type": "code",
   "execution_count": null,
   "id": "695283eb-9f72-44a9-8d9f-b1313d8fc5b9",
   "metadata": {},
   "outputs": [],
   "source": [
    "plt.figure(figsize=(10, 6))\n",
    "sns.set_style(\"whitegrid\")\n",
    "plt.plot(freq_sig[1],  inten_sig[1], color='r', label='Original Signal - {}'.format(signal_index[1]))\n",
    "plt.plot(freq_recon[1], inten_recon[1], color='b', label=\"Reconstructed Signal - {}\".format(signal_index[1]))\n",
    "plt.xlabel(\"Frequency (GHz)\")\n",
    "plt.ylabel(\"Intensity (K)\")\n",
    "plt.legend()\n",
    "# plt.savefig('Recon_params/recon_3502.png')\n",
    "plt.show()"
   ]
  },
  {
   "cell_type": "code",
   "execution_count": null,
   "id": "330a947f-40ae-47c4-870c-edcde6f1c324",
   "metadata": {},
   "outputs": [],
   "source": [
    "plt.figure(figsize=(10, 6))\n",
    "sns.set_style(\"whitegrid\")\n",
    "plt.plot(freq_sig[2],  inten_sig[2], color='r', label='Original Signal - {}'.format(signal_index[2]))\n",
    "plt.plot(freq_recon[2], inten_recon[2], color='b', label=\"Reconstructed Signal - {}\".format(signal_index[2]))\n",
    "plt.xlabel(\"Frequency (GHz)\")\n",
    "plt.ylabel(\"Intensity (K)\")\n",
    "plt.legend()\n",
    "# plt.savefig('Recon_params/recon_3503.png')\n",
    "plt.show()"
   ]
  },
  {
   "cell_type": "code",
   "execution_count": null,
   "id": "5613beae-789d-4811-8008-4ed93b6b7aac",
   "metadata": {},
   "outputs": [],
   "source": [
    "plt.figure(figsize=(10, 6))\n",
    "sns.set_style(\"whitegrid\")\n",
    "plt.plot(freq_sig[1000],  inten_sig[1000], color='r', label='Original Signal - {}'.format(signal_index[1000]+1))\n",
    "plt.plot(freq_recon[1000], inten_recon[1000], color='b', label=\"Reconstructed Signal - {}\".format(signal_index[1000]+1))\n",
    "plt.xlabel(\"Frequency (GHz)\")\n",
    "plt.ylabel(\"Intensity (K)\")\n",
    "plt.legend()\n",
    "# plt.savefig('Recon_params/recon_4500.png')\n",
    "plt.show()"
   ]
  },
  {
   "cell_type": "code",
   "execution_count": null,
   "id": "66e9a6c0-ee11-43c1-aa58-ee1cc01e4729",
   "metadata": {},
   "outputs": [],
   "source": [
    "plt.figure(figsize=(10, 6))\n",
    "sns.set_style(\"whitegrid\")\n",
    "plt.plot(freq_sig[1093],  inten_sig[1093], color='r', label='Original Signal - {}'.format(signal_index[1093]))\n",
    "plt.plot(freq_recon[1093], inten_recon[1093], color='b', label=\"Reconstructed Signal - {}\".format(signal_index[1093]))\n",
    "plt.xlabel(\"Frequency (GHz)\")\n",
    "plt.ylabel(\"Intensity (K)\")\n",
    "plt.legend()\n",
    "# plt.savefig('Recon_params/recon_4737.png')\n",
    "plt.show()"
   ]
  },
  {
   "cell_type": "code",
   "execution_count": null,
   "id": "e9d43d49-a39f-4365-8df5-29fbfab22a71",
   "metadata": {},
   "outputs": [],
   "source": [
    "plt.figure(figsize=(10, 6))\n",
    "sns.set_style(\"whitegrid\")\n",
    "plt.plot(freq_sig[856],  inten_sig[856], color='r', label='Original Signal - {}'.format(signal_index[856]+1))\n",
    "plt.plot(freq_recon[856], inten_recon[856], color='b', label=\"Reconstructed Signal - {}\".format(signal_index[856]+1))\n",
    "plt.xlabel(\"Frequency (GHz)\")\n",
    "plt.ylabel(\"Intensity (K)\")\n",
    "plt.legend()\n",
    "# plt.savefig('Recon_params/recon_4356.png')\n",
    "plt.show()"
   ]
  },
  {
   "cell_type": "code",
   "execution_count": null,
   "id": "a6c88225-c47d-4fb4-8605-815feca85184",
   "metadata": {},
   "outputs": [],
   "source": [
    "plt.figure(figsize=(10, 6))\n",
    "sns.set_style(\"whitegrid\")\n",
    "plt.plot(freq_sig[500],  inten_sig[500], color='r', label='Original Signal - {}'.format(signal_index[500]))\n",
    "plt.plot(freq_recon[500], inten_recon[500], color='b', label=\"Reconstructed Signal - {}\".format(signal_index[500]))\n",
    "plt.xlabel(\"Frequency (GHz)\")\n",
    "plt.ylabel(\"Intensity (K)\")\n",
    "plt.legend()\n",
    "# plt.savefig('Recon_params/recon_5000.png')\n",
    "plt.show()"
   ]
  },
  {
   "cell_type": "code",
   "execution_count": null,
   "id": "741f6dc4-3981-4028-88a7-6c2482c55a82",
   "metadata": {},
   "outputs": [],
   "source": [
    "plt.figure(figsize=(10, 6))\n",
    "sns.set_style(\"whitegrid\")\n",
    "plt.plot(freq_sig[300],  inten_sig[300], color='r', label='Original Signal - {}'.format(signal_index[300]))\n",
    "plt.plot(freq_recon[300], inten_recon[300], color='b', label=\"Reconstructed Signal - {}\".format(signal_index[300]))\n",
    "plt.xlabel(\"Frequency (GHz)\")\n",
    "plt.ylabel(\"Intensity (K)\")\n",
    "plt.legend()\n",
    "# plt.savefig('Recon_params/recon_5000.png')\n",
    "plt.show()"
   ]
  },
  {
   "cell_type": "code",
   "execution_count": null,
   "id": "5c8fd82e",
   "metadata": {},
   "outputs": [],
   "source": [
    "3501-2864\n"
   ]
  },
  {
   "cell_type": "code",
   "execution_count": null,
   "id": "8b50b53a",
   "metadata": {},
   "outputs": [],
   "source": [
    "plt.figure(figsize=(10, 6))\n",
    "sns.set_style(\"whitegrid\")\n",
    "plt.plot(freq_sig[937],  inten_sig[937], color='r', label='Original Signal - {}'.format(signal_index[937]))\n",
    "plt.plot(freq_recon[937], inten_recon[937], color='b', label=\"Reconstructed Signal - {}\".format(signal_index[937]))  # 4768\n",
    "plt.xlabel(\"Frequency (GHz)\")\n",
    "plt.ylabel(\"Intensity (K)\")\n",
    "plt.legend()\n",
    "# plt.savefig('Recon_params/recon_5000.png')\n",
    "plt.show()"
   ]
  },
  {
   "cell_type": "code",
   "execution_count": null,
   "id": "856ccf91",
   "metadata": {},
   "outputs": [],
   "source": [
    "plt.figure(figsize=(10, 6))\n",
    "sns.set_style(\"whitegrid\")\n",
    "plt.plot(freq_sig[1098],  inten_sig[1098], color='r', label='Original Signal - {}'.format(signal_index[1098]))\n",
    "plt.plot(freq_recon[1098], inten_recon[1098], color='b', label=\"Reconstructed Signal - {}\".format(signal_index[1098]))\n",
    "plt.xlabel(\"Frequency (GHz)\")\n",
    "plt.ylabel(\"Intensity (K)\")\n",
    "plt.legend()\n",
    "# plt.savefig('Recon_params/recon_5000.png')\n",
    "plt.show()"
   ]
  },
  {
   "cell_type": "markdown",
   "id": "a42d0e87",
   "metadata": {},
   "source": [
    "### Spectral plots of those with a vslr of around -50 km/s"
   ]
  },
  {
   "cell_type": "markdown",
   "id": "794137a4",
   "metadata": {},
   "source": []
  }
 ],
 "metadata": {
  "kernelspec": {
   "display_name": "Python 3 (ipykernel)",
   "language": "python",
   "name": "python3"
  },
  "language_info": {
   "codemirror_mode": {
    "name": "ipython",
    "version": 3
   },
   "file_extension": ".py",
   "mimetype": "text/x-python",
   "name": "python",
   "nbconvert_exporter": "python",
   "pygments_lexer": "ipython3",
   "version": "3.8.2"
  },
  "vscode": {
   "interpreter": {
    "hash": "701d4f28dcd0866722f5108a3a4cbcd08882d26398b6d44117e791d7b8102912"
   }
  }
 },
 "nbformat": 4,
 "nbformat_minor": 5
}
